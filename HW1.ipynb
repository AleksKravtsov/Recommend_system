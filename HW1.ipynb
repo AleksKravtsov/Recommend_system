{
 "cells": [
  {
   "cell_type": "markdown",
   "metadata": {
    "id": "89mFQmjdo1gZ"
   },
   "source": [
    "# Домашнее задание \n",
    "\n",
    "**1) Приведите еще примеры метрик для оценки рекомендаций/ранжирования (можно взять из интернета, или ваши знания)**\n",
    "\n",
    "**2) Доделать все функции, где стоит комментарий \"сделать дома\"**"
   ]
  },
  {
   "cell_type": "markdown",
   "metadata": {},
   "source": [
    "**Cumulative gain at K (CG@K)** — базовая метрика ранжирования, которая использует простую идею: чем релевантные элементы в этом топе, тем лучше\n",
    "\n",
    "**WTA** - равна единице, если топовая рекомендация, имеющая самый большой предсказанный рейтинг из просмотренных пользователем, оказалась релевантной, иначе берется ноль.\n",
    "\n",
    "Метрики на основе ранговой корреляции **Кендэлла, Спирмена**\n",
    "\n",
    "**PFound** - сумма произведений вероятностей того, что пользователь увидит рекоммендацию на то, что она окажется релевантной. Может применяться для любого списка, который просматривает пользователь"
   ]
  },
  {
   "cell_type": "code",
   "execution_count": 19,
   "metadata": {
    "id": "MDr2G6YIo1g_"
   },
   "outputs": [],
   "source": [
    "import numpy as np\n",
    "\n",
    "recommended_list = [143, 156, 1134, 991, 27, 1543, 3345, 533, 11, 43] #id товаров\n",
    "bought_list = [521, 32, 143, 991]\n",
    "\n",
    "prices_recommended = [100, 90, 10, 450, 50, 37, 99, 120, 34, 100]\n",
    "prices_bought = [110, 190, 100, 450]"
   ]
  },
  {
   "cell_type": "markdown",
   "metadata": {
    "id": "IZ6mlwcSo1hn"
   },
   "source": [
    "### 1. Hit rate"
   ]
  },
  {
   "cell_type": "code",
   "execution_count": 20,
   "metadata": {},
   "outputs": [],
   "source": [
    "#был ли хотя бы 1 релевантный товар среди топ-k рекомендованных\n",
    "def hit_rate_at_k(recommended_list, bought_list, k=5):\n",
    "    #    сделать дома\n",
    "    bought_list = np.array(bought_list)\n",
    "    recommended_list = np.array(recommended_list)[:k]\n",
    "    \n",
    "    flags = np.isin(bought_list, recommended_list)\n",
    "    return (flags.sum() > 0) * 1"
   ]
  },
  {
   "cell_type": "code",
   "execution_count": 21,
   "metadata": {},
   "outputs": [
    {
     "data": {
      "text/plain": [
       "1"
      ]
     },
     "execution_count": 21,
     "metadata": {},
     "output_type": "execute_result"
    }
   ],
   "source": [
    "hit_rate_at_k(recommended_list, bought_list, 3)"
   ]
  },
  {
   "cell_type": "markdown",
   "metadata": {
    "id": "NfVd3dnCo1iN"
   },
   "source": [
    "### 3. Recall"
   ]
  },
  {
   "cell_type": "code",
   "execution_count": 22,
   "metadata": {
    "id": "g2sl_HTfo1iS"
   },
   "outputs": [],
   "source": [
    "def recall(recommended_list, bought_list):\n",
    "    \n",
    "    bought_list = np.array(bought_list)\n",
    "    recommended_list = np.array(recommended_list)\n",
    "    \n",
    "    flags = np.isin(bought_list, recommended_list)\n",
    "    return flags.sum() / len(bought_list)\n",
    "    \n",
    "\n",
    "def recall_at_k(recommended_list, bought_list, k=5):\n",
    "    #    сделать дома\n",
    "    return recall(recommended_list[:k], bought_list)\n",
    "\n",
    "\n",
    "\n",
    "def money_recall_at_k(recommended_list, bought_list, prices_recommended, prices_bought, k=5):\n",
    "    #    сделать дома\n",
    "    recommend_list = np.array(recommended_list)[:k]\n",
    "    prices_recommended = np.array(prices_recommended)[:k]\n",
    "    prices_bought = np.array(prices_bought)\n",
    "    \n",
    "    flags = np.isin(recommend_list, bought_list)\n",
    "    \n",
    "    r1 = np.dot(flags, prices_recommended) \n",
    "    r2 = prices_bought.sum()\n",
    "    recall = r1 / r2\n",
    "    \n",
    "    return recall\n"
   ]
  },
  {
   "cell_type": "code",
   "execution_count": 23,
   "metadata": {
    "id": "kd4I_xqvo1iX",
    "outputId": "2e90ab42-c647-4087-c536-454d10f5f305"
   },
   "outputs": [
    {
     "data": {
      "text/plain": [
       "0.5"
      ]
     },
     "execution_count": 23,
     "metadata": {},
     "output_type": "execute_result"
    }
   ],
   "source": [
    "recall(recommended_list, bought_list)"
   ]
  },
  {
   "cell_type": "code",
   "execution_count": 24,
   "metadata": {},
   "outputs": [
    {
     "name": "stdout",
     "output_type": "stream",
     "text": [
      "0.25\n",
      "0.5\n"
     ]
    }
   ],
   "source": [
    "print(recall_at_k(recommended_list, bought_list,2))\n",
    "print(recall_at_k(recommended_list, bought_list,50))"
   ]
  },
  {
   "cell_type": "code",
   "execution_count": 25,
   "metadata": {},
   "outputs": [
    {
     "name": "stdout",
     "output_type": "stream",
     "text": [
      "0.11764705882352941\n",
      "0.11764705882352941\n",
      "0.6470588235294118\n",
      "0.6470588235294118\n"
     ]
    }
   ],
   "source": [
    "print(money_recall_at_k(recommended_list, bought_list, prices_recommended, prices_bought,1))\n",
    "print(money_recall_at_k(recommended_list, bought_list, prices_recommended, prices_bought,3))\n",
    "print(money_recall_at_k(recommended_list, bought_list, prices_recommended, prices_bought,4))\n",
    "print(money_recall_at_k(recommended_list, bought_list, prices_recommended, prices_bought,5))"
   ]
  },
  {
   "cell_type": "markdown",
   "metadata": {
    "id": "p06Ri8-go1ic"
   },
   "source": [
    "# Метрики ранжирования"
   ]
  },
  {
   "cell_type": "markdown",
   "metadata": {
    "id": "F95YT0wwo1id"
   },
   "source": [
    "## AP@k\n"
   ]
  },
  {
   "cell_type": "code",
   "execution_count": 26,
   "metadata": {},
   "outputs": [],
   "source": [
    "def precision(recommended_list, bought_list):\n",
    "    \n",
    "    bought_list = np.array(bought_list)\n",
    "    recommended_list = np.array(recommended_list)\n",
    "    \n",
    "    flags = np.isin(bought_list, recommended_list)\n",
    "    return flags.sum() / len(recommended_list)\n",
    "\n",
    "def precision_at_k(recommended_list, bought_list, k):\n",
    "    return precision(recommended_list[:k], bought_list)"
   ]
  },
  {
   "cell_type": "code",
   "execution_count": 27,
   "metadata": {},
   "outputs": [
    {
     "data": {
      "text/plain": [
       "0.2"
      ]
     },
     "execution_count": 27,
     "metadata": {},
     "output_type": "execute_result"
    }
   ],
   "source": [
    "precision(recommended_list, bought_list)"
   ]
  },
  {
   "cell_type": "code",
   "execution_count": 28,
   "metadata": {},
   "outputs": [],
   "source": [
    "def ap_k(recommended_list, bought_list, k=5):\n",
    "    \n",
    "    bought_list = np.array(bought_list)\n",
    "    recommended_list = np.array(recommended_list)[:k]\n",
    "    \n",
    "    relevant_indexes = np.nonzero(np.isin(recommended_list, bought_list))[0]\n",
    "    if len(relevant_indexes) == 0:\n",
    "        return 0\n",
    "    \n",
    "    amount_relevant = len(relevant_indexes)\n",
    "            \n",
    "    sum_ = sum([precision_at_k(recommended_list, bought_list, k=index_relevant+1) for index_relevant in relevant_indexes])\n",
    "    return sum_/amount_relevant\n",
    "  \n",
    "    "
   ]
  },
  {
   "cell_type": "code",
   "execution_count": 29,
   "metadata": {},
   "outputs": [
    {
     "data": {
      "text/plain": [
       "0.75"
      ]
     },
     "execution_count": 29,
     "metadata": {},
     "output_type": "execute_result"
    }
   ],
   "source": [
    "ap_k(recommended_list, bought_list, 5)"
   ]
  },
  {
   "cell_type": "markdown",
   "metadata": {
    "id": "GyKVp_A_o1ip"
   },
   "source": [
    "### MAP@k"
   ]
  },
  {
   "cell_type": "code",
   "execution_count": 30,
   "metadata": {},
   "outputs": [],
   "source": [
    "# теперь список из 3 пользователей\n",
    "recommended_list_3_users = [[143, 156, 1134, 991, 27, 1543, 3345, 533, 11, 43], \n",
    "                    [1134, 533, 14, 4, 15, 1543, 1, 99, 27, 3345],\n",
    "                    [991, 3345, 27, 533, 43, 143, 1543, 156, 1134, 11]\n",
    "                    ]\n",
    "\n",
    "bought_list_3_users = [[521, 32, 143],  # юзер 1\n",
    "                       [143, 156, 991, 43, 11], # юзер 2\n",
    "                       [1,2]] # юзер 3"
   ]
  },
  {
   "cell_type": "code",
   "execution_count": 31,
   "metadata": {
    "id": "heZq-3_Vo1iq"
   },
   "outputs": [],
   "source": [
    "def map_k(recommended_list, bought_list, k=5):\n",
    "    \n",
    "    result = 0\n",
    "    for user_num in range(len(recommended_list)):\n",
    "        result += ap_k(recommended_list[user_num], bought_list[user_num], k)\n",
    "    return result / len(recommended_list)"
   ]
  },
  {
   "cell_type": "code",
   "execution_count": 32,
   "metadata": {},
   "outputs": [
    {
     "data": {
      "text/plain": [
       "0.3333333333333333"
      ]
     },
     "execution_count": 32,
     "metadata": {},
     "output_type": "execute_result"
    }
   ],
   "source": [
    "map_k(recommended_list_3_users, bought_list_3_users, 5)"
   ]
  },
  {
   "cell_type": "markdown",
   "metadata": {
    "id": "-aRUBub7o1ix"
   },
   "source": [
    "### Normalized discounted cumulative gain ( NDCG@k)"
   ]
  },
  {
   "cell_type": "code",
   "execution_count": 33,
   "metadata": {},
   "outputs": [],
   "source": [
    "def ndcg_at_k(recommended_list, bought_list, k=5):\n",
    "    \n",
    "    bought_list = np.array(bought_list)\n",
    "    recommended_list = np.array(recommended_list[:k])\n",
    "    \n",
    "    flags = np.isin(recommended_list, bought_list)\n",
    "    ideal_flags = np.ones(flags.size)\n",
    "    \n",
    "    dcg = ( flags[0] + np.sum(flags[1:] / np.log2(np.arange(2, flags.size + 1))) ) / recommended_list.size\n",
    "    ideal_dcg = ( ideal_flags[0] + np.sum(ideal_flags[1:] / np.log2(np.arange(2, ideal_flags.size + 1))) ) / recommended_list.size\n",
    "    \n",
    "    return dcg / ideal_dcg"
   ]
  },
  {
   "cell_type": "code",
   "execution_count": 34,
   "metadata": {},
   "outputs": [
    {
     "data": {
      "text/plain": [
       "0.4211582832992166"
      ]
     },
     "execution_count": 34,
     "metadata": {},
     "output_type": "execute_result"
    }
   ],
   "source": [
    "ndcg_at_k(recommended_list, bought_list, 5)"
   ]
  },
  {
   "cell_type": "markdown",
   "metadata": {
    "id": "T7Y-Jtcdo1i6"
   },
   "source": [
    "### Mean Reciprocal Rank ( MRR@k )"
   ]
  },
  {
   "cell_type": "code",
   "execution_count": 35,
   "metadata": {},
   "outputs": [],
   "source": [
    "def reciprocal_rank(recommended_list, bought_list, k=1):\n",
    "    recommended_list = np.array(recommended_list)\n",
    "    bought_list = np.array(bought_list)\n",
    "    \n",
    "    amount_user = len(bought_list)\n",
    "    rr = []\n",
    "    for i in np.arange(amount_user):    \n",
    "        relevant_indexes = np.nonzero(np.isin(recommended_list[i][:k], bought_list[i]))[0]\n",
    "        if len(relevant_indexes) != 0:\n",
    "            rr.append(1/(relevant_indexes[0]+1))\n",
    "    \n",
    "    if len(rr) == 0:\n",
    "        return 0\n",
    "    \n",
    "    return sum(rr)/amount_user"
   ]
  },
  {
   "cell_type": "code",
   "execution_count": 36,
   "metadata": {},
   "outputs": [
    {
     "name": "stderr",
     "output_type": "stream",
     "text": [
      "C:\\Users\\sanks\\AppData\\Local\\Temp/ipykernel_8420/1419451445.py:3: VisibleDeprecationWarning: Creating an ndarray from ragged nested sequences (which is a list-or-tuple of lists-or-tuples-or ndarrays with different lengths or shapes) is deprecated. If you meant to do this, you must specify 'dtype=object' when creating the ndarray.\n",
      "  bought_list = np.array(bought_list)\n"
     ]
    },
    {
     "data": {
      "text/plain": [
       "0.3333333333333333"
      ]
     },
     "execution_count": 36,
     "metadata": {},
     "output_type": "execute_result"
    }
   ],
   "source": [
    "reciprocal_rank(recommended_list_3_users, bought_list_3_users, 5)"
   ]
  },
  {
   "cell_type": "markdown",
   "metadata": {
    "id": "ZM-4TlgWo1i-"
   },
   "source": [
    "\n",
    "\n"
   ]
  }
 ],
 "metadata": {
  "colab": {
   "name": "webinar_1.ipynb",
   "provenance": []
  },
  "kernelspec": {
   "display_name": "Python 3 (ipykernel)",
   "language": "python",
   "name": "python3"
  },
  "language_info": {
   "codemirror_mode": {
    "name": "ipython",
    "version": 3
   },
   "file_extension": ".py",
   "mimetype": "text/x-python",
   "name": "python",
   "nbconvert_exporter": "python",
   "pygments_lexer": "ipython3",
   "version": "3.8.12"
  }
 },
 "nbformat": 4,
 "nbformat_minor": 4
}
